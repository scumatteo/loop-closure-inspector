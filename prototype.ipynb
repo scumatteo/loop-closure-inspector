{
 "cells": [
  {
   "cell_type": "code",
   "execution_count": 5,
   "metadata": {},
   "outputs": [],
   "source": [
    "import numpy as np\n",
    "import matplotlib.pyplot as plt\n",
    "from scipy.spatial.transform import Rotation as R\n",
    "import pandas as pd"
   ]
  },
  {
   "cell_type": "code",
   "execution_count": 10,
   "metadata": {},
   "outputs": [],
   "source": [
    "class OpenLorisDataset():\n",
    "    \"\"\"\n",
    "    Pose Ground-Truth reader that conforms to the OpenLoris-Scene dataset format\n",
    "    https://lifelong-robotic-vision.github.io/dataset/scene.html\n",
    "    \"\"\"\n",
    "    \n",
    "    # OpenLoris represents odometry as a 3x1 vector tx, ty, tz\n",
    "    # and a quaternion qx, qy, qz, qw.\n",
    "    OPENLORIS_COL_NAMES = [\n",
    "        'time', 'tx', 'ty', 'tz',\n",
    "        'qx', 'qy', 'qz', 'qw'\n",
    "    ]\n",
    "\n",
    "    OPENLORIS_ROT_COL_NAMES = [\n",
    "        'qx', 'qy', 'qz', 'qw'\n",
    "    ]\n",
    "\n",
    "    OPENLORIS_R_VEC_COL_NAMES = [\"x\", \"y\", \"z\"]\n",
    "\n",
    "    def read_file(self, input_file):\n",
    "        poses = pd.read_csv(input_file, sep=' ', names=self.OPENLORIS_COL_NAMES)\n",
    "        return poses\n",
    "\n",
    "    def get_translations(self, poses, translation_axis):\n",
    "        \"\"\"\n",
    "        Returns the translations for the given axis.\n",
    "        \"\"\"\n",
    "        return poses[translation_axis].to_numpy()\n",
    "\n",
    "    def get_angles(self, poses, rotation_axis):\n",
    "        \"\"\"\n",
    "        Returns the angles as Euler angles for the given axis.\n",
    "        \"\"\"\n",
    "        rotations = poses[self.OPENLORIS_ROT_COL_NAMES].to_numpy().reshape(len(poses), 4)\n",
    "        rotations = R.from_quat(rotations)\n",
    "        rotations = rotations.as_euler('xyz', degrees=True) #* 180 / 3.14 #rad to deg\n",
    "        rotations = pd.DataFrame(rotations, columns=self.OPENLORIS_R_VEC_COL_NAMES)\n",
    "        return rotations[rotation_axis].to_numpy()"
   ]
  },
  {
   "cell_type": "code",
   "execution_count": 8,
   "metadata": {},
   "outputs": [],
   "source": [
    "dataset = OpenLorisDataset()"
   ]
  },
  {
   "cell_type": "code",
   "execution_count": 12,
   "metadata": {},
   "outputs": [
    {
     "name": "stdout",
     "output_type": "stream",
     "text": [
      "              time          tx         ty   tz   qx   qy        qz        qw\n",
      "0     1.563004e+09 -125.106741 -15.132272  0.0  0.0  0.0  0.640510  0.767950\n",
      "1     1.563004e+09 -125.105139 -15.112141  0.0  0.0  0.0  0.641401  0.767206\n",
      "2     1.563004e+09 -125.104187 -15.107445  0.0  0.0  0.0  0.641346  0.767251\n",
      "3     1.563004e+09 -125.101239 -15.092500  0.0  0.0  0.0  0.641184  0.767387\n",
      "4     1.563004e+09 -125.098273 -15.079239  0.0  0.0  0.0  0.640939  0.767592\n",
      "...            ...         ...        ...  ...  ...  ...       ...       ...\n",
      "8008  1.563004e+09 -126.298652 -18.006655  0.0  0.0  0.0 -0.664644 -0.747160\n",
      "8009  1.563004e+09 -126.297383 -17.986521  0.0  0.0  0.0 -0.662440 -0.749115\n",
      "8010  1.563004e+09 -126.295062 -17.968670  0.0  0.0  0.0 -0.660053 -0.751219\n",
      "8011  1.563004e+09 -126.289222 -17.933191  0.0  0.0  0.0 -0.654639 -0.755942\n",
      "8012  1.563004e+09 -126.286397 -17.923969  0.0  0.0  0.0 -0.653525 -0.756905\n",
      "\n",
      "[8013 rows x 8 columns]\n",
      "              time          tx        ty   tz   qx   qy        qz        qw\n",
      "0     1.563005e+09 -121.997656  0.273838  0.0  0.0  0.0  0.593133  0.805105\n",
      "1     1.563005e+09 -121.996161  0.278631  0.0  0.0  0.0  0.591654  0.806192\n",
      "2     1.563005e+09 -121.993645  0.285795  0.0  0.0  0.0  0.587914  0.808923\n",
      "3     1.563005e+09 -121.991922  0.290989  0.0  0.0  0.0  0.586650  0.809840\n",
      "4     1.563005e+09 -121.990508  0.295532  0.0  0.0  0.0  0.584567  0.811345\n",
      "...            ...         ...       ...  ...  ...  ...       ...       ...\n",
      "9937  1.563005e+09 -121.543692 -3.135303  0.0  0.0  0.0  0.639322  0.768939\n",
      "9938  1.563005e+09 -121.540803 -3.119850  0.0  0.0  0.0  0.639503  0.768789\n",
      "9939  1.563005e+09 -121.536358 -3.095468  0.0  0.0  0.0  0.639789  0.768550\n",
      "9940  1.563005e+09 -121.534795 -3.080034  0.0  0.0  0.0  0.639319  0.768941\n",
      "9941  1.563005e+09 -121.532002 -3.064891  0.0  0.0  0.0  0.639409  0.768866\n",
      "\n",
      "[9942 rows x 8 columns]\n",
      "               time          tx        ty   tz   qx   qy        qz        qw\n",
      "0      1.563008e+09 -121.855217  2.786645  0.0  0.0  0.0  0.658003  0.753015\n",
      "1      1.563008e+09 -121.854790  2.789191  0.0  0.0  0.0  0.658003  0.753015\n",
      "2      1.563008e+09 -121.853945  2.791308  0.0  0.0  0.0  0.658179  0.752861\n",
      "3      1.563008e+09 -121.853710  2.792710  0.0  0.0  0.0  0.658179  0.752861\n",
      "4      1.563008e+09 -121.853311  2.795112  0.0  0.0  0.0  0.658179  0.752861\n",
      "...             ...         ...       ...  ...  ...  ...       ...       ...\n",
      "11486  1.563008e+09 -122.513091  5.836498  0.0  0.0  0.0 -0.573010 -0.819548\n",
      "11487  1.563008e+09 -122.509452  5.846656  0.0  0.0  0.0 -0.572552 -0.819868\n",
      "11488  1.563008e+09 -122.508189  5.857794  0.0  0.0  0.0 -0.574874 -0.818242\n",
      "11489  1.563008e+09 -122.507519  5.856680  0.0  0.0  0.0 -0.574412 -0.818566\n",
      "11490  1.563008e+09 -122.505212  5.862057  0.0  0.0  0.0 -0.573987 -0.818864\n",
      "\n",
      "[11491 rows x 8 columns]\n"
     ]
    },
    {
     "data": {
      "text/plain": [
       "[<matplotlib.lines.Line2D at 0x22c374db160>]"
      ]
     },
     "execution_count": 12,
     "metadata": {},
     "output_type": "execute_result"
    },
    {
     "data": {
      "image/png": "[encoded data removed]",
      "text/plain": [
       "<Figure size 432x288 with 1 Axes>"
      ]
     },
     "metadata": {
      "needs_background": "light"
     },
     "output_type": "display_data"
    }
   ],
   "source": [
    "poses1 = dataset.read_file(\"D:\\\\datasets\\\\OpenLoris\\\\market1-1_3-package\\\\market1-1\\\\groundtruth.txt\")\n",
    "poses2 = dataset.read_file(\"D:\\\\datasets\\\\OpenLoris\\\\market1-1_3-package\\\\market1-2\\\\groundtruth.txt\")\n",
    "poses3 = dataset.read_file(\"D:\\\\datasets\\\\OpenLoris\\\\market1-1_3-package\\\\market1-3\\\\groundtruth.txt\")    \n",
    "\n",
    "translation_axis = [\"tx\", \"ty\"]\n",
    "translations1 = dataset.get_translations(poses1, translation_axis)\n",
    "translations2 = dataset.get_translations(poses2, translation_axis)\n",
    "translations3 = dataset.get_translations(poses3, translation_axis)\n",
    "\n",
    "\n",
    "x1 = translations1[:, [0]]\n",
    "y1 = translations1[:, [1]]\n",
    "\n",
    "x2 = translations2[:, [0]]\n",
    "y2 = translations2[:, [1]]\n",
    "\n",
    "x3 = translations3[:, [0]]\n",
    "y3 = translations3[:, [1]]\n",
    "\n",
    "#plot the poses\n",
    "plt.plot(x1, y1, color = \"blue\")\n",
    "plt.plot(x2, y2, color = \"red\")\n",
    "plt.plot(x3, y3, color = \"green\")"
   ]
  }
 ],
 "metadata": {
  "kernelspec": {
   "display_name": "Python 3.9.7 ('pytorch')",
   "language": "python",
   "name": "python3"
  },
  "language_info": {
   "codemirror_mode": {
    "name": "ipython",
    "version": 3
   },
   "file_extension": ".py",
   "mimetype": "text/x-python",
   "name": "python",
   "nbconvert_exporter": "python",
   "pygments_lexer": "ipython3",
   "version": "3.9.7"
  },
  "orig_nbformat": 4,
  "vscode": {
   "interpreter": {
    "hash": "c31e813e19f315d9f9278dcc43a673bebd6dcc7a7cbcda7f6e8a935527ba3f87"
   }
  }
 },
 "nbformat": 4,
 "nbformat_minor": 2
}
